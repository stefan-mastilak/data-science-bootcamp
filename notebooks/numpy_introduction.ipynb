{
 "cells": [
  {
   "cell_type": "code",
   "execution_count": 2,
   "id": "2d4638f4-9bcb-4aa5-a20d-77d591fd8587",
   "metadata": {},
   "outputs": [],
   "source": [
    "# Import numpy\n",
    "import numpy as np"
   ]
  },
  {
   "cell_type": "markdown",
   "id": "82a958c7-6afe-4e67-b6c0-85e81b274c9c",
   "metadata": {},
   "source": [
    "### Datatypes and attributes\n"
   ]
  },
  {
   "cell_type": "code",
   "execution_count": 3,
   "id": "6597dd0b-ebb0-43ff-aa38-040f123dfd37",
   "metadata": {},
   "outputs": [],
   "source": [
    "# Numpy's main datatype is ndarray - (n-dimensional array)\n",
    "\n",
    "# Shape (1,3) - 1 row, 3 columns - one dimension array (vector)\n",
    "a1 = np.array([1,2,3])\n",
    "\n",
    "# Shape (2,3) - 1 rows, 3 columns - two dimensional array (matrix)\n",
    "a2 = np.array([[1,2,3], [4,6.5,7]])\n",
    "\n",
    "# Shape (3,3,2) - 3 rows, 3 columns, 2 layers - three dimensional array (matrix)\n",
    "a3 = np.array([[[1,2,3], [4,5,6], [7,8,9]], [[10,11,12],[13,14,15],[16,17,18]]])"
   ]
  },
  {
   "cell_type": "code",
   "execution_count": 4,
   "id": "d53d2b9f-79ae-45ec-a048-de2ef945867f",
   "metadata": {},
   "outputs": [
    {
     "data": {
      "text/plain": [
       "(2, 3, 3)"
      ]
     },
     "execution_count": 4,
     "metadata": {},
     "output_type": "execute_result"
    }
   ],
   "source": [
    "# Show shape of array:\n",
    "a3.shape"
   ]
  },
  {
   "cell_type": "code",
   "execution_count": 5,
   "id": "03573e81-db1f-4bd2-aada-f55671717e01",
   "metadata": {},
   "outputs": [
    {
     "data": {
      "text/plain": [
       "(1, 2, 3)"
      ]
     },
     "execution_count": 5,
     "metadata": {},
     "output_type": "execute_result"
    }
   ],
   "source": [
    "# Show number of dimensions of our arrays:\n",
    "a1.ndim, a2.ndim, a3.ndim"
   ]
  },
  {
   "cell_type": "code",
   "execution_count": 6,
   "id": "14a15429-7496-4b26-8725-475ed2b8939d",
   "metadata": {},
   "outputs": [
    {
     "data": {
      "text/plain": [
       "(dtype('int32'), dtype('float64'), dtype('int32'))"
      ]
     },
     "execution_count": 6,
     "metadata": {},
     "output_type": "execute_result"
    }
   ],
   "source": [
    "# Show datatypes of our arrays:\n",
    "a1.dtype, a2.dtype, a3.dtype"
   ]
  },
  {
   "cell_type": "code",
   "execution_count": 7,
   "id": "912755aa-53e1-45f0-a3c4-259b3c8001d9",
   "metadata": {},
   "outputs": [
    {
     "data": {
      "text/plain": [
       "(3, 6, 18)"
      ]
     },
     "execution_count": 7,
     "metadata": {},
     "output_type": "execute_result"
    }
   ],
   "source": [
    "# Show number of elements in arrays:\n",
    "a1.size, a2.size, a3.size"
   ]
  },
  {
   "cell_type": "markdown",
   "id": "a61472d9-18e3-4cd0-87ff-5b1c70ed68ca",
   "metadata": {},
   "source": [
    "## Creating arrays"
   ]
  },
  {
   "cell_type": "code",
   "execution_count": 12,
   "id": "98e221f1-db17-4267-857a-ba0ccee2b164",
   "metadata": {},
   "outputs": [],
   "source": [
    "# Create a Pandas DataFrame from numpy array\n",
    "import pandas as pd\n",
    "df = pd.DataFrame(a2)"
   ]
  },
  {
   "cell_type": "code",
   "execution_count": 13,
   "id": "726399ba-03e2-4e8d-bfd3-9306b8838ed1",
   "metadata": {},
   "outputs": [
    {
     "data": {
      "text/plain": [
       "array([1, 2, 3])"
      ]
     },
     "execution_count": 13,
     "metadata": {},
     "output_type": "execute_result"
    }
   ],
   "source": [
    "# Creating numpy array:\n",
    "sample_array = np.array([1,2,3])\n",
    "sample_array"
   ]
  },
  {
   "cell_type": "code",
   "execution_count": 17,
   "id": "7144d080-71b4-4345-9752-f11fab1cbb7f",
   "metadata": {},
   "outputs": [
    {
     "data": {
      "text/plain": [
       "array([[1, 1, 1],\n",
       "       [1, 1, 1]])"
      ]
     },
     "execution_count": 17,
     "metadata": {},
     "output_type": "execute_result"
    }
   ],
   "source": [
    "# ones() function will return a new array of given shape and type filled with ones\n",
    "ones = np.ones(shape=(2,3), dtype=int)\n",
    "ones"
   ]
  },
  {
   "cell_type": "code",
   "execution_count": 19,
   "id": "89bd7f7f-44cf-4015-9907-2083101bff04",
   "metadata": {},
   "outputs": [
    {
     "data": {
      "text/plain": [
       "array([[0., 0., 0.],\n",
       "       [0., 0., 0.]])"
      ]
     },
     "execution_count": 19,
     "metadata": {},
     "output_type": "execute_result"
    }
   ],
   "source": [
    "# zeroes() function will return a new array of given shape and type filled with zeros\n",
    "zeros = np.zeros(shape=(2,3), dtype=float)\n",
    "zeros"
   ]
  },
  {
   "cell_type": "code",
   "execution_count": 21,
   "id": "32b6a4af-0688-4b98-b293-774075e4e477",
   "metadata": {},
   "outputs": [
    {
     "data": {
      "text/plain": [
       "array([0, 2, 4, 6, 8])"
      ]
     },
     "execution_count": 21,
     "metadata": {},
     "output_type": "execute_result"
    }
   ],
   "source": [
    "# arrange() function to create array from range like start-stop-step\n",
    "range_array = np.arange(0,10,2)\n",
    "range_array"
   ]
  },
  {
   "cell_type": "code",
   "execution_count": 23,
   "id": "58ffc6ca-571f-48da-aaf4-bc6e3a9b5ba2",
   "metadata": {},
   "outputs": [
    {
     "data": {
      "text/plain": [
       "array([[7, 4, 4, 7, 0],\n",
       "       [0, 0, 9, 5, 7],\n",
       "       [7, 8, 3, 9, 1]])"
      ]
     },
     "execution_count": 23,
     "metadata": {},
     "output_type": "execute_result"
    }
   ],
   "source": [
    "# random array using random.randint() function to create integers in range from low to high\n",
    "random_array = np.random.randint(low=0, high=10, size=(3,5))\n",
    "random_array"
   ]
  },
  {
   "cell_type": "code",
   "execution_count": 28,
   "id": "a9705150-aa18-44c1-ab5f-ff59bea01b07",
   "metadata": {},
   "outputs": [
    {
     "data": {
      "text/plain": [
       "array([[0.13777642, 0.33282493, 0.06925083],\n",
       "       [0.05026527, 0.6991377 , 0.61513432]])"
      ]
     },
     "execution_count": 28,
     "metadata": {},
     "output_type": "execute_result"
    }
   ],
   "source": [
    "# random array using random.random() function to create floats in the half-open interval from 0 to 1\n",
    "random_array2 = np.random.random((2,3))\n",
    "random_array2"
   ]
  },
  {
   "cell_type": "code",
   "execution_count": 30,
   "id": "fb745516-2109-4333-9780-c5766d045353",
   "metadata": {},
   "outputs": [
    {
     "data": {
      "text/plain": [
       "array([[0.68284128, 0.48876519, 0.79986118],\n",
       "       [0.86774647, 0.13287731, 0.5262673 ]])"
      ]
     },
     "execution_count": 30,
     "metadata": {},
     "output_type": "execute_result"
    }
   ],
   "source": [
    "# random array using random.rand() function to create random values in the given shape\n",
    "random_array3 = np.random.rand(2,3)\n",
    "random_array3"
   ]
  },
  {
   "cell_type": "code",
   "execution_count": null,
   "id": "773fca52-59dc-49b9-b8a1-0954a54f392d",
   "metadata": {},
   "outputs": [],
   "source": [
    "# Pseudo-random numbers"
   ]
  }
 ],
 "metadata": {
  "kernelspec": {
   "display_name": "Python 3 (ipykernel)",
   "language": "python",
   "name": "python3"
  },
  "language_info": {
   "codemirror_mode": {
    "name": "ipython",
    "version": 3
   },
   "file_extension": ".py",
   "mimetype": "text/x-python",
   "name": "python",
   "nbconvert_exporter": "python",
   "pygments_lexer": "ipython3",
   "version": "3.9.5"
  }
 },
 "nbformat": 4,
 "nbformat_minor": 5
}
