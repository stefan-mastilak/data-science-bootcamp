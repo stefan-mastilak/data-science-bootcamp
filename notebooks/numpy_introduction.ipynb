{
 "cells": [
  {
   "cell_type": "code",
   "execution_count": 37,
   "id": "2d4638f4-9bcb-4aa5-a20d-77d591fd8587",
   "metadata": {},
   "outputs": [],
   "source": [
    "# Import numpy\n",
    "import numpy as np"
   ]
  },
  {
   "cell_type": "markdown",
   "id": "82a958c7-6afe-4e67-b6c0-85e81b274c9c",
   "metadata": {},
   "source": [
    "## Datatypes and attributes\n"
   ]
  },
  {
   "cell_type": "code",
   "execution_count": 38,
   "id": "6597dd0b-ebb0-43ff-aa38-040f123dfd37",
   "metadata": {},
   "outputs": [],
   "source": [
    "# Numpy's main datatype is ndarray - (n-dimensional array)\n",
    "\n",
    "# Shape (1,3) - 1 row, 3 columns - one dimension array (vector)\n",
    "a1 = np.array([1,2,3])\n",
    "\n",
    "# Shape (2,3) - 1 rows, 3 columns - two dimensional array (matrix)\n",
    "a2 = np.array([[1,2,3], [4,6.5,7]])\n",
    "\n",
    "# Shape (3,3,2) - 3 rows, 3 columns, 2 layers - three dimensional array (matrix)\n",
    "a3 = np.array([[[1,2,3], [4,5,6], [7,8,9]], [[10,11,12],[13,14,15],[16,17,18]]])"
   ]
  },
  {
   "cell_type": "code",
   "execution_count": 39,
   "id": "d53d2b9f-79ae-45ec-a048-de2ef945867f",
   "metadata": {},
   "outputs": [
    {
     "data": {
      "text/plain": [
       "(2, 3, 3)"
      ]
     },
     "execution_count": 39,
     "metadata": {},
     "output_type": "execute_result"
    }
   ],
   "source": [
    "# Show shape of array:\n",
    "a3.shape"
   ]
  },
  {
   "cell_type": "code",
   "execution_count": 40,
   "id": "03573e81-db1f-4bd2-aada-f55671717e01",
   "metadata": {},
   "outputs": [
    {
     "data": {
      "text/plain": [
       "(1, 2, 3)"
      ]
     },
     "execution_count": 40,
     "metadata": {},
     "output_type": "execute_result"
    }
   ],
   "source": [
    "# Show number of dimensions of our arrays:\n",
    "a1.ndim, a2.ndim, a3.ndim"
   ]
  },
  {
   "cell_type": "code",
   "execution_count": 41,
   "id": "14a15429-7496-4b26-8725-475ed2b8939d",
   "metadata": {},
   "outputs": [
    {
     "data": {
      "text/plain": [
       "(dtype('int32'), dtype('float64'), dtype('int32'))"
      ]
     },
     "execution_count": 41,
     "metadata": {},
     "output_type": "execute_result"
    }
   ],
   "source": [
    "# Show datatypes of our arrays:\n",
    "a1.dtype, a2.dtype, a3.dtype"
   ]
  },
  {
   "cell_type": "code",
   "execution_count": 42,
   "id": "912755aa-53e1-45f0-a3c4-259b3c8001d9",
   "metadata": {},
   "outputs": [
    {
     "data": {
      "text/plain": [
       "(3, 6, 18)"
      ]
     },
     "execution_count": 42,
     "metadata": {},
     "output_type": "execute_result"
    }
   ],
   "source": [
    "# Show number of elements in arrays:\n",
    "a1.size, a2.size, a3.size"
   ]
  },
  {
   "cell_type": "markdown",
   "id": "a61472d9-18e3-4cd0-87ff-5b1c70ed68ca",
   "metadata": {},
   "source": [
    "## Creating arrays"
   ]
  },
  {
   "cell_type": "code",
   "execution_count": 43,
   "id": "98e221f1-db17-4267-857a-ba0ccee2b164",
   "metadata": {},
   "outputs": [],
   "source": [
    "# Create a Pandas DataFrame from numpy array\n",
    "import pandas as pd\n",
    "df = pd.DataFrame(a2)"
   ]
  },
  {
   "cell_type": "code",
   "execution_count": 44,
   "id": "726399ba-03e2-4e8d-bfd3-9306b8838ed1",
   "metadata": {},
   "outputs": [
    {
     "data": {
      "text/plain": [
       "array([1, 2, 3])"
      ]
     },
     "execution_count": 44,
     "metadata": {},
     "output_type": "execute_result"
    }
   ],
   "source": [
    "# Creating numpy array:\n",
    "sample_array = np.array([1,2,3])\n",
    "sample_array"
   ]
  },
  {
   "cell_type": "markdown",
   "id": "39038517-3621-4e6f-80f0-97ea3619dc7e",
   "metadata": {},
   "source": [
    "#### ones()"
   ]
  },
  {
   "cell_type": "code",
   "execution_count": 45,
   "id": "7144d080-71b4-4345-9752-f11fab1cbb7f",
   "metadata": {},
   "outputs": [
    {
     "data": {
      "text/plain": [
       "array([[1, 1, 1],\n",
       "       [1, 1, 1]])"
      ]
     },
     "execution_count": 45,
     "metadata": {},
     "output_type": "execute_result"
    }
   ],
   "source": [
    "# ones() function will return a new array of given shape and type filled with ones\n",
    "ones = np.ones(shape=(2,3), dtype=int)\n",
    "ones"
   ]
  },
  {
   "cell_type": "markdown",
   "id": "e03be3f7-ed3a-41f2-996f-eb1e9d824861",
   "metadata": {},
   "source": [
    "#### zeroes()"
   ]
  },
  {
   "cell_type": "code",
   "execution_count": 46,
   "id": "89bd7f7f-44cf-4015-9907-2083101bff04",
   "metadata": {},
   "outputs": [
    {
     "data": {
      "text/plain": [
       "array([[0., 0., 0.],\n",
       "       [0., 0., 0.]])"
      ]
     },
     "execution_count": 46,
     "metadata": {},
     "output_type": "execute_result"
    }
   ],
   "source": [
    "# zeroes() function will return a new array of given shape and type filled with zeros\n",
    "zeros = np.zeros(shape=(2,3), dtype=float)\n",
    "zeros"
   ]
  },
  {
   "cell_type": "markdown",
   "id": "05e970fd-816f-49cd-b549-1da9d9e52237",
   "metadata": {},
   "source": [
    "#### arrange()"
   ]
  },
  {
   "cell_type": "code",
   "execution_count": 47,
   "id": "32b6a4af-0688-4b98-b293-774075e4e477",
   "metadata": {},
   "outputs": [
    {
     "data": {
      "text/plain": [
       "array([0, 2, 4, 6, 8])"
      ]
     },
     "execution_count": 47,
     "metadata": {},
     "output_type": "execute_result"
    }
   ],
   "source": [
    "# arrange() function to create array from range like start-stop-step\n",
    "range_array = np.arange(0,10,2)\n",
    "range_array"
   ]
  },
  {
   "cell_type": "markdown",
   "id": "62557c2e-109f-418d-9794-f08ade7b8a29",
   "metadata": {},
   "source": [
    "#### random.randint()"
   ]
  },
  {
   "cell_type": "code",
   "execution_count": 48,
   "id": "58ffc6ca-571f-48da-aaf4-bc6e3a9b5ba2",
   "metadata": {},
   "outputs": [
    {
     "data": {
      "text/plain": [
       "array([[3, 5, 8, 8, 7],\n",
       "       [5, 0, 0, 2, 8],\n",
       "       [9, 6, 4, 9, 7]])"
      ]
     },
     "execution_count": 48,
     "metadata": {},
     "output_type": "execute_result"
    }
   ],
   "source": [
    "# random array using random.randint() function to create integers in range from low to high\n",
    "random_array = np.random.randint(low=0, high=10, size=(3,5))\n",
    "random_array"
   ]
  },
  {
   "cell_type": "markdown",
   "id": "49393fec-c2ed-4f53-9d0e-f471b2acaed7",
   "metadata": {},
   "source": [
    "#### random.random()"
   ]
  },
  {
   "cell_type": "code",
   "execution_count": 49,
   "id": "a9705150-aa18-44c1-ab5f-ff59bea01b07",
   "metadata": {},
   "outputs": [
    {
     "data": {
      "text/plain": [
       "array([[0.52341258, 0.75040986, 0.66901324],\n",
       "       [0.46775286, 0.20484909, 0.49076589]])"
      ]
     },
     "execution_count": 49,
     "metadata": {},
     "output_type": "execute_result"
    }
   ],
   "source": [
    "# random array using random.random() function to create floats in the half-open interval from 0 to 1\n",
    "random_array2 = np.random.random((2,3))\n",
    "random_array2"
   ]
  },
  {
   "cell_type": "markdown",
   "id": "643340c7-2f1e-4855-88b4-3f4cf872e016",
   "metadata": {},
   "source": [
    "#### random.rand()"
   ]
  },
  {
   "cell_type": "code",
   "execution_count": 50,
   "id": "fb745516-2109-4333-9780-c5766d045353",
   "metadata": {},
   "outputs": [
    {
     "data": {
      "text/plain": [
       "array([[0.37238469, 0.47740115, 0.36589039],\n",
       "       [0.83791799, 0.76864751, 0.31399468]])"
      ]
     },
     "execution_count": 50,
     "metadata": {},
     "output_type": "execute_result"
    }
   ],
   "source": [
    "# random array using random.rand() function to create random values in the given shape\n",
    "random_array3 = np.random.rand(2,3)\n",
    "random_array3"
   ]
  },
  {
   "cell_type": "markdown",
   "id": "4831cbff-261d-43a3-a7ab-2c360796a47d",
   "metadata": {},
   "source": [
    "#### Pseudo-random arrays\n",
    "#### random.seed()"
   ]
  },
  {
   "cell_type": "code",
   "execution_count": 51,
   "id": "773fca52-59dc-49b9-b8a1-0954a54f392d",
   "metadata": {},
   "outputs": [
    {
     "data": {
      "text/plain": [
       "array([[5, 0, 3],\n",
       "       [3, 7, 9],\n",
       "       [3, 5, 2],\n",
       "       [4, 7, 6],\n",
       "       [8, 8, 1]])"
      ]
     },
     "execution_count": 51,
     "metadata": {},
     "output_type": "execute_result"
    }
   ],
   "source": [
    "# Pseudo-random arrays - allows us to create random arrays that are reproducable \n",
    "# line below ensures that our random_array4 will be the same no matter how many times we will run this command :) \n",
    "np.random.seed(seed=0)\n",
    "random_array4 = np.random.randint(10, size=(5,3))\n",
    "random_array4"
   ]
  },
  {
   "cell_type": "code",
   "execution_count": 52,
   "id": "3c15412f-8e4c-42df-b8bf-76bc049bf1f4",
   "metadata": {},
   "outputs": [
    {
     "data": {
      "text/plain": [
       "array([[0.07630829, 0.77991879, 0.43840923],\n",
       "       [0.72346518, 0.97798951, 0.53849587],\n",
       "       [0.50112046, 0.07205113, 0.26843898],\n",
       "       [0.4998825 , 0.67923   , 0.80373904],\n",
       "       [0.38094113, 0.06593635, 0.2881456 ]])"
      ]
     },
     "execution_count": 52,
     "metadata": {},
     "output_type": "execute_result"
    }
   ],
   "source": [
    "np.random.seed(seed=7)\n",
    "random_array5 = np.random.random((5,3))\n",
    "random_array5"
   ]
  },
  {
   "cell_type": "markdown",
   "id": "8e0ce307-1f50-41f2-9124-943d69e52ce3",
   "metadata": {},
   "source": [
    "## Viewing arrays and matrices"
   ]
  },
  {
   "cell_type": "code",
   "execution_count": 53,
   "id": "0e6f9ab6-7dfc-4a4b-9af2-76e062ba3e18",
   "metadata": {},
   "outputs": [
    {
     "data": {
      "text/plain": [
       "array([0, 1, 2, 3, 4, 5, 6, 7, 8, 9])"
      ]
     },
     "execution_count": 53,
     "metadata": {},
     "output_type": "execute_result"
    }
   ],
   "source": [
    "# Get unique elements of array:\n",
    "np.unique(random_array4)"
   ]
  },
  {
   "cell_type": "code",
   "execution_count": 66,
   "id": "b198a3a2-6c4a-4ea0-a632-3818d555b035",
   "metadata": {},
   "outputs": [
    {
     "data": {
      "text/plain": [
       "array([[[ 1,  2,  3],\n",
       "        [ 4,  5,  6],\n",
       "        [ 7,  8,  9]],\n",
       "\n",
       "       [[10, 11, 12],\n",
       "        [13, 14, 15],\n",
       "        [16, 17, 18]]])"
      ]
     },
     "execution_count": 66,
     "metadata": {},
     "output_type": "execute_result"
    }
   ],
   "source": [
    "a3"
   ]
  },
  {
   "cell_type": "markdown",
   "id": "8d0f557d-6875-407b-96c8-6b60216aaf27",
   "metadata": {},
   "source": [
    "#### Indexing"
   ]
  },
  {
   "cell_type": "code",
   "execution_count": 67,
   "id": "64c850ff-5118-41f9-a154-22563a2167a8",
   "metadata": {},
   "outputs": [
    {
     "data": {
      "text/plain": [
       "array([[1, 2, 3],\n",
       "       [4, 5, 6],\n",
       "       [7, 8, 9]])"
      ]
     },
     "execution_count": 67,
     "metadata": {},
     "output_type": "execute_result"
    }
   ],
   "source": [
    "# Access elements by index:\n",
    "a3[0]"
   ]
  },
  {
   "cell_type": "markdown",
   "id": "4d8dea94-cdcf-4ccc-901a-a8824c83ccef",
   "metadata": {},
   "source": [
    "#### Slicing"
   ]
  },
  {
   "cell_type": "code",
   "execution_count": 69,
   "id": "51d4654c-5a72-4047-b633-6bf70e1ec41f",
   "metadata": {},
   "outputs": [
    {
     "data": {
      "text/plain": [
       "array([[4, 5, 6],\n",
       "       [7, 8, 9]])"
      ]
     },
     "execution_count": 69,
     "metadata": {},
     "output_type": "execute_result"
    }
   ],
   "source": [
    "# Access elements by slicing:\n",
    "a3[0][1:]"
   ]
  },
  {
   "cell_type": "code",
   "execution_count": 70,
   "id": "231adbfa-aadb-4288-9b1e-f9e78a9279ed",
   "metadata": {},
   "outputs": [
    {
     "ename": "SyntaxError",
     "evalue": "invalid syntax (1961273450.py, line 1)",
     "output_type": "error",
     "traceback": [
      "\u001b[1;36m  Input \u001b[1;32mIn [70]\u001b[1;36m\u001b[0m\n\u001b[1;33m    a4 = np.random.randint(10. size=(2,3,4,5))\u001b[0m\n\u001b[1;37m                               ^\u001b[0m\n\u001b[1;31mSyntaxError\u001b[0m\u001b[1;31m:\u001b[0m invalid syntax\n"
     ]
    }
   ],
   "source": [
    "a4 = np.random.randint(10. size=(2,3,4,5))"
   ]
  },
  {
   "cell_type": "code",
   "execution_count": null,
   "id": "41d3b447-9752-4a99-bdc6-0fbdccfe71e2",
   "metadata": {},
   "outputs": [],
   "source": []
  }
 ],
 "metadata": {
  "kernelspec": {
   "display_name": "Python 3 (ipykernel)",
   "language": "python",
   "name": "python3"
  },
  "language_info": {
   "codemirror_mode": {
    "name": "ipython",
    "version": 3
   },
   "file_extension": ".py",
   "mimetype": "text/x-python",
   "name": "python",
   "nbconvert_exporter": "python",
   "pygments_lexer": "ipython3",
   "version": "3.9.5"
  }
 },
 "nbformat": 4,
 "nbformat_minor": 5
}
