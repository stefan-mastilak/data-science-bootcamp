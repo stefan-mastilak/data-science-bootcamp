{
 "cells": [
  {
   "cell_type": "code",
   "execution_count": 1,
   "id": "2d4638f4-9bcb-4aa5-a20d-77d591fd8587",
   "metadata": {},
   "outputs": [],
   "source": [
    "# Import numpy\n",
    "import numpy as np"
   ]
  },
  {
   "cell_type": "markdown",
   "id": "82a958c7-6afe-4e67-b6c0-85e81b274c9c",
   "metadata": {},
   "source": [
    "## Datatypes and attributes\n"
   ]
  },
  {
   "cell_type": "code",
   "execution_count": 2,
   "id": "6597dd0b-ebb0-43ff-aa38-040f123dfd37",
   "metadata": {},
   "outputs": [],
   "source": [
    "# Numpy's main datatype is ndarray - (n-dimensional array)\n",
    "\n",
    "# Shape (1,3) - 1 row, 3 columns - one dimension array (vector)\n",
    "a1 = np.array([1,2,3])\n",
    "\n",
    "# Shape (2,3) - 1 rows, 3 columns - two dimensional array (matrix)\n",
    "a2 = np.array([[1,2,3], [4,6.5,7]])\n",
    "\n",
    "# Shape (3,3,2) - 3 rows, 3 columns, 2 layers - three dimensional array (matrix)\n",
    "a3 = np.array([[[1,2,3], [4,5,6], [7,8,9]], [[10,11,12],[13,14,15],[16,17,18]]])"
   ]
  },
  {
   "cell_type": "code",
   "execution_count": 3,
   "id": "d53d2b9f-79ae-45ec-a048-de2ef945867f",
   "metadata": {},
   "outputs": [
    {
     "data": {
      "text/plain": [
       "(2, 3, 3)"
      ]
     },
     "execution_count": 3,
     "metadata": {},
     "output_type": "execute_result"
    }
   ],
   "source": [
    "# Show shape of array:\n",
    "a3.shape"
   ]
  },
  {
   "cell_type": "code",
   "execution_count": 4,
   "id": "03573e81-db1f-4bd2-aada-f55671717e01",
   "metadata": {},
   "outputs": [
    {
     "data": {
      "text/plain": [
       "(1, 2, 3)"
      ]
     },
     "execution_count": 4,
     "metadata": {},
     "output_type": "execute_result"
    }
   ],
   "source": [
    "# Show number of dimensions of our arrays:\n",
    "a1.ndim, a2.ndim, a3.ndim"
   ]
  },
  {
   "cell_type": "code",
   "execution_count": 5,
   "id": "14a15429-7496-4b26-8725-475ed2b8939d",
   "metadata": {},
   "outputs": [
    {
     "data": {
      "text/plain": [
       "(dtype('int32'), dtype('float64'), dtype('int32'))"
      ]
     },
     "execution_count": 5,
     "metadata": {},
     "output_type": "execute_result"
    }
   ],
   "source": [
    "# Show datatypes of our arrays:\n",
    "a1.dtype, a2.dtype, a3.dtype"
   ]
  },
  {
   "cell_type": "code",
   "execution_count": 6,
   "id": "912755aa-53e1-45f0-a3c4-259b3c8001d9",
   "metadata": {},
   "outputs": [
    {
     "data": {
      "text/plain": [
       "(3, 6, 18)"
      ]
     },
     "execution_count": 6,
     "metadata": {},
     "output_type": "execute_result"
    }
   ],
   "source": [
    "# Show number of elements in arrays:\n",
    "a1.size, a2.size, a3.size"
   ]
  },
  {
   "cell_type": "markdown",
   "id": "a61472d9-18e3-4cd0-87ff-5b1c70ed68ca",
   "metadata": {},
   "source": [
    "## Creating arrays"
   ]
  },
  {
   "cell_type": "code",
   "execution_count": 7,
   "id": "98e221f1-db17-4267-857a-ba0ccee2b164",
   "metadata": {},
   "outputs": [],
   "source": [
    "# Create a Pandas DataFrame from numpy array\n",
    "import pandas as pd\n",
    "df = pd.DataFrame(a2)"
   ]
  },
  {
   "cell_type": "code",
   "execution_count": 8,
   "id": "726399ba-03e2-4e8d-bfd3-9306b8838ed1",
   "metadata": {},
   "outputs": [
    {
     "data": {
      "text/plain": [
       "array([1, 2, 3])"
      ]
     },
     "execution_count": 8,
     "metadata": {},
     "output_type": "execute_result"
    }
   ],
   "source": [
    "# Creating numpy array:\n",
    "sample_array = np.array([1,2,3])\n",
    "sample_array"
   ]
  },
  {
   "cell_type": "markdown",
   "id": "39038517-3621-4e6f-80f0-97ea3619dc7e",
   "metadata": {},
   "source": [
    "#### ones()"
   ]
  },
  {
   "cell_type": "code",
   "execution_count": 9,
   "id": "7144d080-71b4-4345-9752-f11fab1cbb7f",
   "metadata": {},
   "outputs": [
    {
     "data": {
      "text/plain": [
       "array([[1, 1, 1],\n",
       "       [1, 1, 1]])"
      ]
     },
     "execution_count": 9,
     "metadata": {},
     "output_type": "execute_result"
    }
   ],
   "source": [
    "# ones() function will return a new array of given shape and type filled with ones\n",
    "ones = np.ones(shape=(2,3), dtype=int)\n",
    "ones"
   ]
  },
  {
   "cell_type": "markdown",
   "id": "e03be3f7-ed3a-41f2-996f-eb1e9d824861",
   "metadata": {},
   "source": [
    "#### zeroes()"
   ]
  },
  {
   "cell_type": "code",
   "execution_count": 10,
   "id": "89bd7f7f-44cf-4015-9907-2083101bff04",
   "metadata": {},
   "outputs": [
    {
     "data": {
      "text/plain": [
       "array([[0., 0., 0.],\n",
       "       [0., 0., 0.]])"
      ]
     },
     "execution_count": 10,
     "metadata": {},
     "output_type": "execute_result"
    }
   ],
   "source": [
    "# zeroes() function will return a new array of given shape and type filled with zeros\n",
    "zeros = np.zeros(shape=(2,3), dtype=float)\n",
    "zeros"
   ]
  },
  {
   "cell_type": "markdown",
   "id": "05e970fd-816f-49cd-b549-1da9d9e52237",
   "metadata": {},
   "source": [
    "#### arrange()"
   ]
  },
  {
   "cell_type": "code",
   "execution_count": 11,
   "id": "32b6a4af-0688-4b98-b293-774075e4e477",
   "metadata": {},
   "outputs": [
    {
     "data": {
      "text/plain": [
       "array([0, 2, 4, 6, 8])"
      ]
     },
     "execution_count": 11,
     "metadata": {},
     "output_type": "execute_result"
    }
   ],
   "source": [
    "# arrange() function to create array from range like start-stop-step\n",
    "range_array = np.arange(0,10,2)\n",
    "range_array"
   ]
  },
  {
   "cell_type": "markdown",
   "id": "62557c2e-109f-418d-9794-f08ade7b8a29",
   "metadata": {},
   "source": [
    "#### random.randint()"
   ]
  },
  {
   "cell_type": "code",
   "execution_count": 12,
   "id": "58ffc6ca-571f-48da-aaf4-bc6e3a9b5ba2",
   "metadata": {},
   "outputs": [
    {
     "data": {
      "text/plain": [
       "array([[0, 4, 8, 0, 4],\n",
       "       [4, 5, 1, 0, 4],\n",
       "       [7, 5, 4, 0, 8]])"
      ]
     },
     "execution_count": 12,
     "metadata": {},
     "output_type": "execute_result"
    }
   ],
   "source": [
    "# random array using random.randint() function to create integers in range from low to high\n",
    "random_array = np.random.randint(low=0, high=10, size=(3,5))\n",
    "random_array"
   ]
  },
  {
   "cell_type": "markdown",
   "id": "49393fec-c2ed-4f53-9d0e-f471b2acaed7",
   "metadata": {},
   "source": [
    "#### random.random()"
   ]
  },
  {
   "cell_type": "code",
   "execution_count": 13,
   "id": "a9705150-aa18-44c1-ab5f-ff59bea01b07",
   "metadata": {},
   "outputs": [
    {
     "data": {
      "text/plain": [
       "array([[0.62597616, 0.32822508, 0.91066677],\n",
       "       [0.4917809 , 0.06297276, 0.81912437]])"
      ]
     },
     "execution_count": 13,
     "metadata": {},
     "output_type": "execute_result"
    }
   ],
   "source": [
    "# random array using random.random() function to create floats in the half-open interval from 0 to 1\n",
    "random_array2 = np.random.random((2,3))\n",
    "random_array2"
   ]
  },
  {
   "cell_type": "markdown",
   "id": "643340c7-2f1e-4855-88b4-3f4cf872e016",
   "metadata": {},
   "source": [
    "#### random.rand()"
   ]
  },
  {
   "cell_type": "code",
   "execution_count": 14,
   "id": "fb745516-2109-4333-9780-c5766d045353",
   "metadata": {},
   "outputs": [
    {
     "data": {
      "text/plain": [
       "array([[0.17802535, 0.96391315, 0.76588581],\n",
       "       [0.02059998, 0.14748305, 0.22309629]])"
      ]
     },
     "execution_count": 14,
     "metadata": {},
     "output_type": "execute_result"
    }
   ],
   "source": [
    "# random array using random.rand() function to create random values in the given shape\n",
    "random_array3 = np.random.rand(2,3)\n",
    "random_array3"
   ]
  },
  {
   "cell_type": "markdown",
   "id": "4831cbff-261d-43a3-a7ab-2c360796a47d",
   "metadata": {},
   "source": [
    "#### Pseudo-random arrays\n",
    "#### random.seed()"
   ]
  },
  {
   "cell_type": "code",
   "execution_count": 15,
   "id": "773fca52-59dc-49b9-b8a1-0954a54f392d",
   "metadata": {},
   "outputs": [
    {
     "data": {
      "text/plain": [
       "array([[5, 0, 3],\n",
       "       [3, 7, 9],\n",
       "       [3, 5, 2],\n",
       "       [4, 7, 6],\n",
       "       [8, 8, 1]])"
      ]
     },
     "execution_count": 15,
     "metadata": {},
     "output_type": "execute_result"
    }
   ],
   "source": [
    "# Pseudo-random arrays - allows us to create random arrays that are reproducable \n",
    "# line below ensures that our random_array4 will be the same no matter how many times we will run this command :) \n",
    "np.random.seed(seed=0)\n",
    "random_array4 = np.random.randint(10, size=(5,3))\n",
    "random_array4"
   ]
  },
  {
   "cell_type": "code",
   "execution_count": 16,
   "id": "3c15412f-8e4c-42df-b8bf-76bc049bf1f4",
   "metadata": {},
   "outputs": [
    {
     "data": {
      "text/plain": [
       "array([[0.07630829, 0.77991879, 0.43840923],\n",
       "       [0.72346518, 0.97798951, 0.53849587],\n",
       "       [0.50112046, 0.07205113, 0.26843898],\n",
       "       [0.4998825 , 0.67923   , 0.80373904],\n",
       "       [0.38094113, 0.06593635, 0.2881456 ]])"
      ]
     },
     "execution_count": 16,
     "metadata": {},
     "output_type": "execute_result"
    }
   ],
   "source": [
    "np.random.seed(seed=7)\n",
    "random_array5 = np.random.random((5,3))\n",
    "random_array5"
   ]
  },
  {
   "cell_type": "markdown",
   "id": "8e0ce307-1f50-41f2-9124-943d69e52ce3",
   "metadata": {},
   "source": [
    "## Viewing arrays and matrices"
   ]
  },
  {
   "cell_type": "code",
   "execution_count": 17,
   "id": "0e6f9ab6-7dfc-4a4b-9af2-76e062ba3e18",
   "metadata": {},
   "outputs": [
    {
     "data": {
      "text/plain": [
       "array([0, 1, 2, 3, 4, 5, 6, 7, 8, 9])"
      ]
     },
     "execution_count": 17,
     "metadata": {},
     "output_type": "execute_result"
    }
   ],
   "source": [
    "# Get unique elements of array:\n",
    "np.unique(random_array4)"
   ]
  },
  {
   "cell_type": "code",
   "execution_count": 18,
   "id": "b198a3a2-6c4a-4ea0-a632-3818d555b035",
   "metadata": {},
   "outputs": [
    {
     "data": {
      "text/plain": [
       "array([[[ 1,  2,  3],\n",
       "        [ 4,  5,  6],\n",
       "        [ 7,  8,  9]],\n",
       "\n",
       "       [[10, 11, 12],\n",
       "        [13, 14, 15],\n",
       "        [16, 17, 18]]])"
      ]
     },
     "execution_count": 18,
     "metadata": {},
     "output_type": "execute_result"
    }
   ],
   "source": [
    "a3"
   ]
  },
  {
   "cell_type": "markdown",
   "id": "8d0f557d-6875-407b-96c8-6b60216aaf27",
   "metadata": {},
   "source": [
    "#### Indexing"
   ]
  },
  {
   "cell_type": "code",
   "execution_count": 19,
   "id": "64c850ff-5118-41f9-a154-22563a2167a8",
   "metadata": {},
   "outputs": [
    {
     "data": {
      "text/plain": [
       "array([[1, 2, 3],\n",
       "       [4, 5, 6],\n",
       "       [7, 8, 9]])"
      ]
     },
     "execution_count": 19,
     "metadata": {},
     "output_type": "execute_result"
    }
   ],
   "source": [
    "# Access elements by index:\n",
    "a3[0]"
   ]
  },
  {
   "cell_type": "markdown",
   "id": "4d8dea94-cdcf-4ccc-901a-a8824c83ccef",
   "metadata": {},
   "source": [
    "#### Slicing"
   ]
  },
  {
   "cell_type": "code",
   "execution_count": 20,
   "id": "51d4654c-5a72-4047-b633-6bf70e1ec41f",
   "metadata": {},
   "outputs": [
    {
     "data": {
      "text/plain": [
       "array([[4, 5, 6],\n",
       "       [7, 8, 9]])"
      ]
     },
     "execution_count": 20,
     "metadata": {},
     "output_type": "execute_result"
    }
   ],
   "source": [
    "# Access elements by slicing:\n",
    "a3[0][1:]"
   ]
  },
  {
   "cell_type": "code",
   "execution_count": 23,
   "id": "231adbfa-aadb-4288-9b1e-f9e78a9279ed",
   "metadata": {},
   "outputs": [
    {
     "data": {
      "text/plain": [
       "array([[[[3, 5, 8, 8, 7],\n",
       "         [5, 0, 0, 2, 8],\n",
       "         [9, 6, 4, 9, 7],\n",
       "         [3, 3, 8, 3, 0]],\n",
       "\n",
       "        [[1, 0, 0, 6, 7],\n",
       "         [7, 9, 3, 0, 7],\n",
       "         [7, 7, 0, 5, 4],\n",
       "         [3, 1, 3, 1, 3]],\n",
       "\n",
       "        [[4, 3, 1, 9, 5],\n",
       "         [9, 1, 2, 3, 2],\n",
       "         [2, 5, 7, 3, 0],\n",
       "         [9, 9, 3, 4, 5]]],\n",
       "\n",
       "\n",
       "       [[[3, 0, 4, 8, 6],\n",
       "         [7, 2, 7, 3, 8],\n",
       "         [6, 6, 5, 6, 5],\n",
       "         [7, 1, 5, 4, 4]],\n",
       "\n",
       "        [[9, 9, 0, 6, 2],\n",
       "         [6, 8, 2, 4, 1],\n",
       "         [6, 1, 5, 1, 6],\n",
       "         [9, 8, 6, 5, 9]],\n",
       "\n",
       "        [[7, 5, 4, 9, 6],\n",
       "         [8, 1, 5, 5, 8],\n",
       "         [3, 7, 7, 9, 4],\n",
       "         [7, 5, 9, 6, 2]]]])"
      ]
     },
     "execution_count": 23,
     "metadata": {},
     "output_type": "execute_result"
    }
   ],
   "source": [
    "a4 = np.random.randint(10, size=(2,3,4,5))\n",
    "a4"
   ]
  },
  {
   "cell_type": "code",
   "execution_count": 24,
   "id": "41d3b447-9752-4a99-bdc6-0fbdccfe71e2",
   "metadata": {},
   "outputs": [
    {
     "data": {
      "text/plain": [
       "((2, 3, 4, 5), 4)"
      ]
     },
     "execution_count": 24,
     "metadata": {},
     "output_type": "execute_result"
    }
   ],
   "source": [
    "a4.shape, a4.ndim"
   ]
  },
  {
   "cell_type": "code",
   "execution_count": 26,
   "id": "662f746b-60e0-4e95-befa-c000f9843962",
   "metadata": {},
   "outputs": [
    {
     "data": {
      "text/plain": [
       "array([[[[3, 5, 8, 8],\n",
       "         [5, 0, 0, 2],\n",
       "         [9, 6, 4, 9],\n",
       "         [3, 3, 8, 3]],\n",
       "\n",
       "        [[1, 0, 0, 6],\n",
       "         [7, 9, 3, 0],\n",
       "         [7, 7, 0, 5],\n",
       "         [3, 1, 3, 1]],\n",
       "\n",
       "        [[4, 3, 1, 9],\n",
       "         [9, 1, 2, 3],\n",
       "         [2, 5, 7, 3],\n",
       "         [9, 9, 3, 4]]],\n",
       "\n",
       "\n",
       "       [[[3, 0, 4, 8],\n",
       "         [7, 2, 7, 3],\n",
       "         [6, 6, 5, 6],\n",
       "         [7, 1, 5, 4]],\n",
       "\n",
       "        [[9, 9, 0, 6],\n",
       "         [6, 8, 2, 4],\n",
       "         [6, 1, 5, 1],\n",
       "         [9, 8, 6, 5]],\n",
       "\n",
       "        [[7, 5, 4, 9],\n",
       "         [8, 1, 5, 5],\n",
       "         [3, 7, 7, 9],\n",
       "         [7, 5, 9, 6]]]])"
      ]
     },
     "execution_count": 26,
     "metadata": {},
     "output_type": "execute_result"
    }
   ],
   "source": [
    "# Get the first 4 elements of the inner most array:\n",
    "a4[:, :, :, :4]"
   ]
  },
  {
   "cell_type": "markdown",
   "id": "acf431ba-d6ae-4f75-955a-4faf5e2a9d9f",
   "metadata": {},
   "source": [
    "## Manipulating and comparing arrays "
   ]
  },
  {
   "cell_type": "markdown",
   "id": "5b525087-f4a3-4266-9564-25e775dc417e",
   "metadata": {},
   "source": [
    "### Arithmetic operations"
   ]
  },
  {
   "cell_type": "code",
   "execution_count": 28,
   "id": "67c359ab-ed57-4eae-91f0-3b0e2f7ec909",
   "metadata": {},
   "outputs": [
    {
     "data": {
      "text/plain": [
       "array([1, 2, 3])"
      ]
     },
     "execution_count": 28,
     "metadata": {},
     "output_type": "execute_result"
    }
   ],
   "source": [
    "a1"
   ]
  },
  {
   "cell_type": "code",
   "execution_count": 46,
   "id": "b0dd2487-3987-4eeb-b2a6-4350d24d3eb2",
   "metadata": {},
   "outputs": [
    {
     "data": {
      "text/plain": [
       "array([[1. , 2. , 3. ],\n",
       "       [4. , 6.5, 7. ]])"
      ]
     },
     "execution_count": 46,
     "metadata": {},
     "output_type": "execute_result"
    }
   ],
   "source": [
    "a2"
   ]
  },
  {
   "cell_type": "code",
   "execution_count": 31,
   "id": "f13495c5-259e-4c2f-9396-b53284ba5f02",
   "metadata": {},
   "outputs": [
    {
     "data": {
      "text/plain": [
       "array([1., 1., 1.])"
      ]
     },
     "execution_count": 31,
     "metadata": {},
     "output_type": "execute_result"
    }
   ],
   "source": [
    "ones = np.ones(3)\n",
    "ones"
   ]
  },
  {
   "cell_type": "code",
   "execution_count": 33,
   "id": "8145be7b-0a23-42aa-b218-9fc0e4e0b07a",
   "metadata": {},
   "outputs": [
    {
     "data": {
      "text/plain": [
       "array([2., 3., 4.])"
      ]
     },
     "execution_count": 33,
     "metadata": {},
     "output_type": "execute_result"
    }
   ],
   "source": [
    "# Adding two arrays - elements will be summed \n",
    "a1 + ones"
   ]
  },
  {
   "cell_type": "code",
   "execution_count": 35,
   "id": "09421d1e-2e70-49e7-be2e-820a0df2296d",
   "metadata": {},
   "outputs": [
    {
     "data": {
      "text/plain": [
       "array([0., 1., 2.])"
      ]
     },
     "execution_count": 35,
     "metadata": {},
     "output_type": "execute_result"
    }
   ],
   "source": [
    "# Subtraction of array elements\n",
    "a1 - ones"
   ]
  },
  {
   "cell_type": "code",
   "execution_count": 36,
   "id": "f7554cde-6264-4f78-97ed-9cbd4533658e",
   "metadata": {},
   "outputs": [
    {
     "data": {
      "text/plain": [
       "array([1., 2., 3.])"
      ]
     },
     "execution_count": 36,
     "metadata": {},
     "output_type": "execute_result"
    }
   ],
   "source": [
    "# Multiplication of array elements:\n",
    "a1 * ones"
   ]
  },
  {
   "cell_type": "code",
   "execution_count": 47,
   "id": "0aff443d-e30a-4c81-8252-84e48e517d99",
   "metadata": {},
   "outputs": [
    {
     "data": {
      "text/plain": [
       "array([[1., 1., 1.],\n",
       "       [4., 3., 2.]])"
      ]
     },
     "execution_count": 47,
     "metadata": {},
     "output_type": "execute_result"
    }
   ],
   "source": [
    "# Floor division (removes decimals by rounding down)\n",
    "a2 // a1"
   ]
  },
  {
   "cell_type": "code",
   "execution_count": 49,
   "id": "5d0c8350-4bee-46e7-bf83-d64d6476e2e1",
   "metadata": {},
   "outputs": [
    {
     "data": {
      "text/plain": [
       "array([1, 4, 9])"
      ]
     },
     "execution_count": 49,
     "metadata": {},
     "output_type": "execute_result"
    }
   ],
   "source": [
    "# Square\n",
    "a1 ** 2"
   ]
  },
  {
   "cell_type": "code",
   "execution_count": 50,
   "id": "e4411cbd-63ca-456a-bc7f-80a8aca08559",
   "metadata": {},
   "outputs": [
    {
     "data": {
      "text/plain": [
       "array([1, 0, 1], dtype=int32)"
      ]
     },
     "execution_count": 50,
     "metadata": {},
     "output_type": "execute_result"
    }
   ],
   "source": [
    "# Modulo\n",
    "a1 % 2"
   ]
  },
  {
   "cell_type": "code",
   "execution_count": 52,
   "id": "4a5ce499-baa3-43a9-9a85-7f3e8e33da51",
   "metadata": {},
   "outputs": [
    {
     "data": {
      "text/plain": [
       "array([ 2.71828183,  7.3890561 , 20.08553692])"
      ]
     },
     "execution_count": 52,
     "metadata": {},
     "output_type": "execute_result"
    }
   ],
   "source": [
    "# Exponential\n",
    "np.exp(a1)"
   ]
  },
  {
   "cell_type": "code",
   "execution_count": 54,
   "id": "365a7574-0c51-470b-8d67-3f135ab90b8d",
   "metadata": {},
   "outputs": [
    {
     "data": {
      "text/plain": [
       "array([0.        , 0.69314718, 1.09861229])"
      ]
     },
     "execution_count": 54,
     "metadata": {},
     "output_type": "execute_result"
    }
   ],
   "source": [
    "# Logarithm\n",
    "np.log(a1)"
   ]
  },
  {
   "cell_type": "markdown",
   "id": "e7b56a58-ef08-4542-a06e-c8cad991b601",
   "metadata": {},
   "source": [
    "#### Reshaping"
   ]
  },
  {
   "cell_type": "code",
   "execution_count": 126,
   "id": "5018dc26-dff0-4d95-8b8d-407581032248",
   "metadata": {},
   "outputs": [],
   "source": [
    "# NOTE: Check numpy broadcasting to see how arithmetic operations behave on arrays with different shapes\n",
    "# https://numpy.org/doc/stable/user/basics.broadcasting.html"
   ]
  },
  {
   "cell_type": "code",
   "execution_count": 40,
   "id": "fa37cc89-0ab1-4921-b0b4-b7860d15c4c7",
   "metadata": {},
   "outputs": [
    {
     "data": {
      "text/plain": [
       "array([[1. , 2. , 3. ],\n",
       "       [4. , 6.5, 7. ]])"
      ]
     },
     "execution_count": 40,
     "metadata": {},
     "output_type": "execute_result"
    }
   ],
   "source": [
    "a2"
   ]
  },
  {
   "cell_type": "code",
   "execution_count": 41,
   "id": "d4b38b50-9b29-4e0b-a1de-1356a1302fe2",
   "metadata": {},
   "outputs": [
    {
     "data": {
      "text/plain": [
       "array([[[ 1,  2,  3],\n",
       "        [ 4,  5,  6],\n",
       "        [ 7,  8,  9]],\n",
       "\n",
       "       [[10, 11, 12],\n",
       "        [13, 14, 15],\n",
       "        [16, 17, 18]]])"
      ]
     },
     "execution_count": 41,
     "metadata": {},
     "output_type": "execute_result"
    }
   ],
   "source": [
    "a3"
   ]
  },
  {
   "cell_type": "code",
   "execution_count": 44,
   "id": "a33e7a16-8eac-4b7d-a25a-1db7a450d9d4",
   "metadata": {},
   "outputs": [
    {
     "ename": "ValueError",
     "evalue": "operands could not be broadcast together with shapes (2,3) (2,3,3) ",
     "output_type": "error",
     "traceback": [
      "\u001b[1;31m---------------------------------------------------------------------------\u001b[0m",
      "\u001b[1;31mValueError\u001b[0m                                Traceback (most recent call last)",
      "Input \u001b[1;32mIn [44]\u001b[0m, in \u001b[0;36m<cell line: 2>\u001b[1;34m()\u001b[0m\n\u001b[0;32m      1\u001b[0m \u001b[38;5;66;03m# How can you reshape a2 to be compatible with a3?\u001b[39;00m\n\u001b[1;32m----> 2\u001b[0m \u001b[43ma2\u001b[49m\u001b[43m \u001b[49m\u001b[38;5;241;43m*\u001b[39;49m\u001b[43m \u001b[49m\u001b[43ma3\u001b[49m\n",
      "\u001b[1;31mValueError\u001b[0m: operands could not be broadcast together with shapes (2,3) (2,3,3) "
     ]
    }
   ],
   "source": [
    "# How can you reshape a2 to be compatible with a3?\n",
    "a2 * a3"
   ]
  },
  {
   "cell_type": "code",
   "execution_count": 132,
   "id": "fc26ec28-a41a-4488-b350-7a968a798128",
   "metadata": {},
   "outputs": [
    {
     "data": {
      "text/plain": [
       "((2, 3), (2, 3, 3))"
      ]
     },
     "execution_count": 132,
     "metadata": {},
     "output_type": "execute_result"
    }
   ],
   "source": [
    "a2.shape, a3.shape"
   ]
  },
  {
   "cell_type": "code",
   "execution_count": 128,
   "id": "d815e769-c3b5-4f99-ac7f-043c68c4d41e",
   "metadata": {},
   "outputs": [
    {
     "data": {
      "text/plain": [
       "(2, 3, 1)"
      ]
     },
     "execution_count": 128,
     "metadata": {},
     "output_type": "execute_result"
    }
   ],
   "source": [
    "a2.reshape(2,3,1).shape"
   ]
  },
  {
   "cell_type": "code",
   "execution_count": 129,
   "id": "b089f4cd-5e67-43c3-aae0-ca8cd8576330",
   "metadata": {},
   "outputs": [
    {
     "data": {
      "text/plain": [
       "(2, 3, 3)"
      ]
     },
     "execution_count": 129,
     "metadata": {},
     "output_type": "execute_result"
    }
   ],
   "source": [
    "a3.shape"
   ]
  },
  {
   "cell_type": "code",
   "execution_count": 130,
   "id": "9fc394d2-a294-49ef-8acc-2b050a27220c",
   "metadata": {},
   "outputs": [],
   "source": [
    "a2_reshaped = a2.reshape(2,3,1)"
   ]
  },
  {
   "cell_type": "code",
   "execution_count": 131,
   "id": "5295e2e2-9b9f-4c8b-922b-e24e6ae32cd5",
   "metadata": {},
   "outputs": [
    {
     "data": {
      "text/plain": [
       "array([[[  1. ,   2. ,   3. ],\n",
       "        [  8. ,  10. ,  12. ],\n",
       "        [ 21. ,  24. ,  27. ]],\n",
       "\n",
       "       [[ 40. ,  44. ,  48. ],\n",
       "        [ 84.5,  91. ,  97.5],\n",
       "        [112. , 119. , 126. ]]])"
      ]
     },
     "execution_count": 131,
     "metadata": {},
     "output_type": "execute_result"
    }
   ],
   "source": [
    "a2_reshaped * a3"
   ]
  },
  {
   "cell_type": "markdown",
   "id": "a043b2bd-e787-433f-a06e-6fe0659b4743",
   "metadata": {},
   "source": [
    "#### Transposing"
   ]
  },
  {
   "cell_type": "code",
   "execution_count": null,
   "id": "1d97389b-a4ae-4743-b5ac-adfa092d2ea8",
   "metadata": {},
   "outputs": [],
   "source": [
    "# Transpose = switches the axis'"
   ]
  },
  {
   "cell_type": "code",
   "execution_count": 133,
   "id": "688f4fcf-7c05-4af2-b461-501b642e9872",
   "metadata": {},
   "outputs": [
    {
     "data": {
      "text/plain": [
       "array([[1. , 2. , 3. ],\n",
       "       [4. , 6.5, 7. ]])"
      ]
     },
     "execution_count": 133,
     "metadata": {},
     "output_type": "execute_result"
    }
   ],
   "source": [
    "a2"
   ]
  },
  {
   "cell_type": "code",
   "execution_count": 136,
   "id": "cd6ec1be-bbd9-415a-bd46-ea5e5774b9a1",
   "metadata": {},
   "outputs": [
    {
     "data": {
      "text/plain": [
       "array([[1. , 4. ],\n",
       "       [2. , 6.5],\n",
       "       [3. , 7. ]])"
      ]
     },
     "execution_count": 136,
     "metadata": {},
     "output_type": "execute_result"
    }
   ],
   "source": [
    "# Transpose array a2:\n",
    "a2.T"
   ]
  },
  {
   "cell_type": "code",
   "execution_count": 137,
   "id": "42641890-f564-4ddc-8111-825c11d1b25d",
   "metadata": {},
   "outputs": [
    {
     "data": {
      "text/plain": [
       "(3, 2)"
      ]
     },
     "execution_count": 137,
     "metadata": {},
     "output_type": "execute_result"
    }
   ],
   "source": [
    "a2.T.shape"
   ]
  },
  {
   "cell_type": "markdown",
   "id": "50018c0d-8751-45a3-9005-dd724b9a5a2e",
   "metadata": {},
   "source": [
    "#### Aggregation "
   ]
  },
  {
   "cell_type": "markdown",
   "id": "465d9221-a006-4956-b4d9-8f4a5f95b23f",
   "metadata": {},
   "source": [
    "Aggregation = performing the same operation on a number of things\n",
    "\n",
    "NOTE: Use python's methods (`sum()`) on Python datatypes\n",
    "\n",
    "NOTE: Use Numpy's methods (`np.sum()`) on Numpy arrays"
   ]
  },
  {
   "cell_type": "code",
   "execution_count": 83,
   "id": "9aa2d037-13dc-4574-a1f2-fb891ea1c53e",
   "metadata": {},
   "outputs": [
    {
     "data": {
      "text/plain": [
       "100000"
      ]
     },
     "execution_count": 83,
     "metadata": {},
     "output_type": "execute_result"
    }
   ],
   "source": [
    "# Create massive numpy array:\n",
    "massive_arr = np.random.random(100000)\n",
    "massive_arr.size"
   ]
  },
  {
   "cell_type": "code",
   "execution_count": 74,
   "id": "34d119e2-17e9-4fbe-ba8e-9aefcef36336",
   "metadata": {},
   "outputs": [
    {
     "name": "stdout",
     "output_type": "stream",
     "text": [
      "6.46 ms ± 39.3 µs per loop (mean ± std. dev. of 7 runs, 100 loops each)\n",
      "37.9 µs ± 434 ns per loop (mean ± std. dev. of 7 runs, 10,000 loops each)\n"
     ]
    }
   ],
   "source": [
    "# Compare Python's sum and Numpy's sum methods performance:\n",
    "%timeit sum(massive_arr)\n",
    "%timeit np.sum(massive_arr)"
   ]
  },
  {
   "cell_type": "code",
   "execution_count": 84,
   "id": "d28ad7a7-a826-4318-bb48-b1640e816291",
   "metadata": {},
   "outputs": [],
   "source": [
    "# As you can see numpy is more than 500 times faster. It's because Numpy is optimized to perform numerical calculations"
   ]
  },
  {
   "cell_type": "code",
   "execution_count": 79,
   "id": "2a9dc647-4ac1-4aa6-b5f6-804139cf1779",
   "metadata": {},
   "outputs": [
    {
     "data": {
      "text/plain": [
       "array([[1. , 2. , 3. ],\n",
       "       [4. , 6.5, 7. ]])"
      ]
     },
     "execution_count": 79,
     "metadata": {},
     "output_type": "execute_result"
    }
   ],
   "source": [
    "a2"
   ]
  },
  {
   "cell_type": "code",
   "execution_count": 81,
   "id": "f44d8dcf-d599-490e-b5d9-1d3b16dd8b65",
   "metadata": {},
   "outputs": [
    {
     "data": {
      "text/plain": [
       "23.5"
      ]
     },
     "execution_count": 81,
     "metadata": {},
     "output_type": "execute_result"
    }
   ],
   "source": [
    "# Sum\n",
    "np.sum(a2)"
   ]
  },
  {
   "cell_type": "code",
   "execution_count": 82,
   "id": "bcb89d47-ac27-4815-a052-710d0586dadc",
   "metadata": {},
   "outputs": [
    {
     "data": {
      "text/plain": [
       "3.9166666666666665"
      ]
     },
     "execution_count": 82,
     "metadata": {},
     "output_type": "execute_result"
    }
   ],
   "source": [
    "# Mean\n",
    "np.mean(a2)"
   ]
  },
  {
   "cell_type": "code",
   "execution_count": 91,
   "id": "cc01efd0-4452-4060-9fed-7538d5b767ec",
   "metadata": {},
   "outputs": [
    {
     "data": {
      "text/plain": [
       "7.0"
      ]
     },
     "execution_count": 91,
     "metadata": {},
     "output_type": "execute_result"
    }
   ],
   "source": [
    "# Max\n",
    "np.max(a2)"
   ]
  },
  {
   "cell_type": "code",
   "execution_count": 90,
   "id": "28917b1c-753f-4847-8f62-cf6be0e1ba23",
   "metadata": {},
   "outputs": [
    {
     "data": {
      "text/plain": [
       "1.0"
      ]
     },
     "execution_count": 90,
     "metadata": {},
     "output_type": "execute_result"
    }
   ],
   "source": [
    "# Min\n",
    "np.min(a2)"
   ]
  },
  {
   "cell_type": "markdown",
   "id": "743b3ac4-90c6-4bfa-9744-293f8e6b0d8e",
   "metadata": {},
   "source": [
    "#### Standard deviation and Variance"
   ]
  },
  {
   "cell_type": "code",
   "execution_count": 100,
   "id": "3fbdbc33-0849-4721-8095-5fe5c57622b8",
   "metadata": {},
   "outputs": [
    {
     "data": {
      "text/plain": [
       "2.2063670491456207"
      ]
     },
     "execution_count": 100,
     "metadata": {},
     "output_type": "execute_result"
    }
   ],
   "source": [
    "# Standard deviation = measure of how spread out a group of numbers is from the mean\n",
    "np.std(a2)"
   ]
  },
  {
   "cell_type": "code",
   "execution_count": 119,
   "id": "ab1f7349-f933-46b2-af91-aff38fd8cd73",
   "metadata": {},
   "outputs": [
    {
     "data": {
      "text/plain": [
       "4.8680555555555545"
      ]
     },
     "execution_count": 119,
     "metadata": {},
     "output_type": "execute_result"
    }
   ],
   "source": [
    "# Variance = measure of the average degree to which each number is different to the mean\n",
    "# Higher variance = wider ange of numbers\n",
    "# Lower variance = lower range of numbers\n",
    "np.var(a2)"
   ]
  },
  {
   "cell_type": "code",
   "execution_count": 102,
   "id": "94b4fd9d-e666-47ac-a0e1-386dcf3e82ed",
   "metadata": {},
   "outputs": [
    {
     "data": {
      "text/plain": [
       "2.2063670491456207"
      ]
     },
     "execution_count": 102,
     "metadata": {},
     "output_type": "execute_result"
    }
   ],
   "source": [
    "# Standard deviation = squareroot of variance:\n",
    "np.sqrt(np.var(a2))"
   ]
  },
  {
   "cell_type": "code",
   "execution_count": 106,
   "id": "379ad59c-8be1-4711-af4c-38bc29469b12",
   "metadata": {},
   "outputs": [],
   "source": [
    "# Demo of std and var\n",
    "high_var_arr = np.array([1, 100, 200, 4000, 5000])\n",
    "low_var_arr = np.array([2, 4, 6, 8, 10])"
   ]
  },
  {
   "cell_type": "code",
   "execution_count": 108,
   "id": "79189314-9e9d-4fdb-a6c6-e928dc782336",
   "metadata": {},
   "outputs": [
    {
     "data": {
      "text/plain": [
       "4749656.16"
      ]
     },
     "execution_count": 108,
     "metadata": {},
     "output_type": "execute_result"
    }
   ],
   "source": [
    "np.var(high_var_arr)"
   ]
  },
  {
   "cell_type": "code",
   "execution_count": 109,
   "id": "58d243ca-c687-48f2-a04b-80ea33b4b5d0",
   "metadata": {},
   "outputs": [
    {
     "data": {
      "text/plain": [
       "8.0"
      ]
     },
     "execution_count": 109,
     "metadata": {},
     "output_type": "execute_result"
    }
   ],
   "source": [
    "np.var(low_var_arr)"
   ]
  },
  {
   "cell_type": "code",
   "execution_count": 112,
   "id": "88864c51-693c-482b-999e-712733aa1881",
   "metadata": {},
   "outputs": [
    {
     "data": {
      "text/plain": [
       "2179.3705880368307"
      ]
     },
     "execution_count": 112,
     "metadata": {},
     "output_type": "execute_result"
    }
   ],
   "source": [
    "np.std(high_var_arr)"
   ]
  },
  {
   "cell_type": "code",
   "execution_count": 114,
   "id": "b69ae843-9686-424e-beff-04f8990c499c",
   "metadata": {},
   "outputs": [
    {
     "data": {
      "text/plain": [
       "2.8284271247461903"
      ]
     },
     "execution_count": 114,
     "metadata": {},
     "output_type": "execute_result"
    }
   ],
   "source": [
    "np.std(low_var_arr)"
   ]
  },
  {
   "cell_type": "code",
   "execution_count": 117,
   "id": "b8f43bb5-b6f1-406b-9cec-3b841ce7c845",
   "metadata": {},
   "outputs": [
    {
     "data": {
      "text/plain": [
       "1860.2"
      ]
     },
     "execution_count": 117,
     "metadata": {},
     "output_type": "execute_result"
    }
   ],
   "source": [
    "np.mean(high_var_arr)"
   ]
  },
  {
   "cell_type": "code",
   "execution_count": 118,
   "id": "78f457e3-06ff-4eb4-8a37-6d3e2959f7fa",
   "metadata": {},
   "outputs": [
    {
     "data": {
      "text/plain": [
       "6.0"
      ]
     },
     "execution_count": 118,
     "metadata": {},
     "output_type": "execute_result"
    }
   ],
   "source": [
    "np.mean(low_var_arr)"
   ]
  },
  {
   "cell_type": "code",
   "execution_count": 123,
   "id": "60e23e94-1f7a-4c8a-affa-c991db6f1314",
   "metadata": {},
   "outputs": [
    {
     "data": {
      "image/png": "[encoded data removed]",
      "text/plain": [
       "<Figure size 432x288 with 1 Axes>"
      ]
     },
     "metadata": {
      "needs_background": "light"
     },
     "output_type": "display_data"
    }
   ],
   "source": [
    "%matplotlib inline\n",
    "import matplotlib.pyplot as plt\n",
    "\n",
    "plt.hist(high_var_arr)\n",
    "plt.show()"
   ]
  },
  {
   "cell_type": "code",
   "execution_count": 125,
   "id": "39bf7b3c-690d-481d-9432-fd5082d5347f",
   "metadata": {},
   "outputs": [
    {
     "data": {
      "image/png": "[encoded data removed]",
      "text/plain": [
       "<Figure size 432x288 with 1 Axes>"
      ]
     },
     "metadata": {
      "needs_background": "light"
     },
     "output_type": "display_data"
    }
   ],
   "source": [
    "plt.hist(low_var_arr)\n",
    "plt.show()"
   ]
  },
  {
   "cell_type": "markdown",
   "id": "2b5f0b26-1712-4b77-8fe2-5728c14b9646",
   "metadata": {},
   "source": []
  }
 ],
 "metadata": {
  "kernelspec": {
   "display_name": "Python 3 (ipykernel)",
   "language": "python",
   "name": "python3"
  },
  "language_info": {
   "codemirror_mode": {
    "name": "ipython",
    "version": 3
   },
   "file_extension": ".py",
   "mimetype": "text/x-python",
   "name": "python",
   "nbconvert_exporter": "python",
   "pygments_lexer": "ipython3",
   "version": "3.9.5"
  }
 },
 "nbformat": 4,
 "nbformat_minor": 5
}
